{
 "cells": [
  {
   "cell_type": "markdown",
   "id": "f7b00392-c17c-48e4-82a5-6543d129ac26",
   "metadata": {},
   "source": [
    "# Priority Scheduling Algorithm "
   ]
  },
  {
   "cell_type": "code",
   "execution_count": 3,
   "id": "1158f840-bbd3-4e7b-8bf0-da98c380d062",
   "metadata": {},
   "outputs": [
    {
     "name": "stdout",
     "output_type": "stream",
     "text": [
      "\n",
      "Priority Scheduling (Non-Preemptive):\n",
      "Task2 (Priority 1): start at 0, finish at 3\n",
      "Task3 (Priority 2): start at 3, finish at 11\n",
      "Task1 (Priority 3): start at 11, finish at 16\n"
     ]
    }
   ],
   "source": [
    "class Task:\n",
    "    def __init__(self, name, burst_time, priority):\n",
    "        self.name = name\n",
    "        self.burst_time = burst_time\n",
    "        self.priority = priority\n",
    "        self.start_time = None\n",
    "        self.finish_time = None\n",
    "\n",
    "# Your task: Implement the Priority Scheduling function below\n",
    "def priority_scheduling(tasks):\n",
    "    print(\"\\nPriority Scheduling (Non-Preemptive):\")\n",
    "    current_time = 0  \n",
    "\n",
    "    tasks_sorted = sorted(tasks, key=lambda x: x.priority)\n",
    "    # Sort tasks based on priority (lower number = higher priority)\n",
    "\n",
    "    # Iterate through sorted tasks and assign start & finish times\n",
    "    for task in tasks_sorted:\n",
    "        # update task's start time and finish_time\n",
    "        task.start_time = current_time\n",
    "        # update current_time\n",
    "        current_time+= task.burst_time\n",
    "        task.finish_time = current_time\n",
    "        # Print details for each task\n",
    "        print(f\"{task.name} (Priority {task.priority}): start at {task.start_time}, finish at {task.finish_time}\")\n",
    "\n",
    "tasks = [\n",
    "    Task(\"Task1\", burst_time=5, priority=3),\n",
    "    Task(\"Task2\", burst_time=3, priority=1),\n",
    "    Task(\"Task3\", burst_time=8, priority=2),\n",
    "]\n",
    "\n",
    "priority_scheduling(tasks)  "
   ]
  },
  {
   "cell_type": "code",
   "execution_count": null,
   "id": "91fcaa8e-f40b-4445-aad0-d234d7a0010d",
   "metadata": {},
   "outputs": [],
   "source": []
  }
 ],
 "metadata": {
  "kernelspec": {
   "display_name": "Python [conda env:base] *",
   "language": "python",
   "name": "conda-base-py"
  },
  "language_info": {
   "codemirror_mode": {
    "name": "ipython",
    "version": 3
   },
   "file_extension": ".py",
   "mimetype": "text/x-python",
   "name": "python",
   "nbconvert_exporter": "python",
   "pygments_lexer": "ipython3",
   "version": "3.12.7"
  }
 },
 "nbformat": 4,
 "nbformat_minor": 5
}
