{
 "cells": [
  {
   "cell_type": "markdown",
   "id": "3dc81594-c7b5-4937-a1d6-168810321ea5",
   "metadata": {},
   "source": [
    "# Round Robin CPU Scheduling algorithm"
   ]
  },
  {
   "cell_type": "code",
   "execution_count": 5,
   "id": "1d6f3d43-70fa-4ede-85ce-0f218cc12c3d",
   "metadata": {},
   "outputs": [
    {
     "name": "stdout",
     "output_type": "stream",
     "text": [
      "\n",
      "Round Robin Scheduling:\n",
      "Task2: starts af 2 finish at 9\n",
      "Task1: starts af 0 finish at 12\n",
      "Task3: starts af 4 finish at 16\n"
     ]
    }
   ],
   "source": [
    "from collections import deque\n",
    "\n",
    "class Task:\n",
    "    def __init__(self, name, burst_time):\n",
    "        self.name = name\n",
    "        self.burst_time = burst_time\n",
    "        self.remaining_time = burst_time  \n",
    "        self.start_time = None\n",
    "        self.finish_time = None\n",
    "\n",
    "# Your task: Implement the Round Robin function\n",
    "def round_robin(tasks, quantum):\n",
    "    print(\"\\nRound Robin Scheduling:\")\n",
    "    task_queue = deque(tasks)  \n",
    "    current_time = 0  \n",
    "\n",
    "    while task_queue:\n",
    "        task = task_queue.popleft()\n",
    "        if task.start_time is None:\n",
    "            # set task's start_time as current_time\n",
    "            task.start_time = current_time\n",
    "        if task.remaining_time > quantum:\n",
    "            # update current_time and task's remaining_time \n",
    "            current_time+= quantum\n",
    "            # app\n",
    "            task.remaining_time-=quantum\n",
    "            task_queue.append(task)\n",
    "\n",
    "            \n",
    "        else:\n",
    "            # update current_time and task's finish_time and remaining_time\n",
    "            current_time+=task.remaining_time\n",
    "            task.remaining_time=0\n",
    "            task.finish_time= current_time\n",
    "            # print task's details\n",
    "            print(f\"{task.name}: starts af {task.start_time} finish at {task.finish_time}\")\n",
    "        # Stop when all tasks have finished execution\n",
    "\n",
    "\n",
    "tasks = [\n",
    "    Task(\"Task1\", burst_time=5),\n",
    "    Task(\"Task2\", burst_time=3),\n",
    "    Task(\"Task3\", burst_time=8),\n",
    "]\n",
    "\n",
    "quantum = 2  \n",
    "round_robin(tasks, quantum) \n"
   ]
  },
  {
   "cell_type": "code",
   "execution_count": null,
   "id": "3538350b-9f85-40f6-9f9b-6b37c993352a",
   "metadata": {},
   "outputs": [],
   "source": []
  }
 ],
 "metadata": {
  "kernelspec": {
   "display_name": "Python [conda env:base] *",
   "language": "python",
   "name": "conda-base-py"
  },
  "language_info": {
   "codemirror_mode": {
    "name": "ipython",
    "version": 3
   },
   "file_extension": ".py",
   "mimetype": "text/x-python",
   "name": "python",
   "nbconvert_exporter": "python",
   "pygments_lexer": "ipython3",
   "version": "3.12.7"
  }
 },
 "nbformat": 4,
 "nbformat_minor": 5
}
