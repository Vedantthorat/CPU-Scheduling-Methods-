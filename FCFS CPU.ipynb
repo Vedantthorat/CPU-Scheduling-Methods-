{
 "cells": [
  {
   "cell_type": "markdown",
   "id": "7205e02e-98bb-4452-871a-6e19cb4c92bc",
   "metadata": {},
   "source": [
    "# FCFS CPU Scheduling algorithm "
   ]
  },
  {
   "cell_type": "code",
   "execution_count": 3,
   "id": "571bd088-0da4-4200-a128-590c9210e0fb",
   "metadata": {},
   "outputs": [
    {
     "name": "stdout",
     "output_type": "stream",
     "text": [
      "FCFS Scheduling:\n",
      "Task1: start at, 0 finish at 5\n",
      "Task2: start at, 5 finish at 8\n",
      "Task3: start at, 8 finish at 16\n"
     ]
    }
   ],
   "source": [
    "class Task:\n",
    "    def __init__(self, name, burst_time):\n",
    "        self.name = name\n",
    "        self.burst_time = burst_time\n",
    "        self.start_time = None\n",
    "        self.finish_time = None\n",
    "\n",
    "\n",
    "def fcfs(tasks):\n",
    "    print(\"FCFS Scheduling:\")\n",
    "    current_time = 0 \n",
    "    \n",
    "    for task in tasks:\n",
    "       \n",
    "        task.start_time = current_time\n",
    "       \n",
    "        current_time+= task.burst_time\n",
    "      \n",
    "        task.finish_time = current_time\n",
    "        \n",
    "        print(f\"{task.name}: start at, {task.start_time} finish at {task.finish_time}\")\n",
    "\n",
    "\n",
    "tasks = [\n",
    "    Task(\"Task1\", burst_time=5),\n",
    "    Task(\"Task2\", burst_time=3),\n",
    "    Task(\"Task3\", burst_time=8),\n",
    "]\n",
    "\n",
    "fcfs(tasks)  \n"
   ]
  },
  {
   "cell_type": "code",
   "execution_count": null,
   "id": "2eb0f908-94ad-41df-9338-b5a5bf771eb7",
   "metadata": {},
   "outputs": [],
   "source": []
  }
 ],
 "metadata": {
  "kernelspec": {
   "display_name": "Python [conda env:base] *",
   "language": "python",
   "name": "conda-base-py"
  },
  "language_info": {
   "codemirror_mode": {
    "name": "ipython",
    "version": 3
   },
   "file_extension": ".py",
   "mimetype": "text/x-python",
   "name": "python",
   "nbconvert_exporter": "python",
   "pygments_lexer": "ipython3",
   "version": "3.12.7"
  }
 },
 "nbformat": 4,
 "nbformat_minor": 5
}
